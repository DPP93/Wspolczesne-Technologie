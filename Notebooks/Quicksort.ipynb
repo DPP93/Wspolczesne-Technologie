{
 "cells": [
  {
   "cell_type": "markdown",
   "metadata": {},
   "source": [
    "<table class=\"sprawko-header\" style=\"width: 90%; border-style: hidden; font-size: 22px; line-height: 1.2em;\">\n",
    "<tr style=\"border-style: hidden;\">\n",
    "    <td style=\"width: 50%; border-style: hidden;\">Informatyka, studia dzienne, II st.</td>\n",
    "    <td style=\"width: 50%; text-align: right; border-style: hidden;\">semestr II</td>\n",
    "</tr>\n",
    "<tr style=\"border-style: hidden;\">\n",
    "    <td style=\"width: 50%; border-style: hidden;\">\n",
    "        <b>Współczesne technologie programowania</b><br> Prowadzący: Kamil Stokfiszewski\n",
    "    </td>\n",
    "    <td style=\"width: 50%; text-align: right; border-style: hidden;\">\n",
    "        2016/2017<br> wtorek, 10:15\n",
    "    </td>\n",
    "</tr>\n",
    "<tr style=\"border-style: hidden;\">\n",
    "    <td colspan=\"2\">\n",
    "        <ul style=\"width: 100%; text-align: center;  list-style: none;\">\n",
    "            <li>Daniel Pęczek 207585</li>\n",
    "            <li>Michał Sośnicki 207597</li>\n",
    "        </ul>\n",
    "    </td>\n",
    "</tr>\n",
    "</table>"
   ]
  },
  {
   "cell_type": "markdown",
   "metadata": {},
   "source": [
    "# Ćwiczenie 4: Symulacja zjawisk fizycznych na procesorach graficznych"
   ]
  },
  {
   "cell_type": "markdown",
   "metadata": {},
   "source": [
    "## Wprowadzenie\n",
    "Zadanie polegało na stworzeniu programu sortującego tablicę liczb, zgodnie z algorytmem sortowania szybkiego i oszacowaniu na jego podstawie złożoności obliczeniowej tego algorytmu. Należy przy tym zwrócić uwagę na techniki pomiaru czasu i różnice między złożonością pesymistyczną, średnią i optymistyczną."
   ]
  },
  {
   "cell_type": "markdown",
   "metadata": {},
   "source": [
    "## Realizacja\n",
    "\n",
    "Program sortujący liczby algorytmem `quicksort` zrealizowano w języku `C++`. Program ten sam generuje dane testowe o żądanym rozmiarze i mierzy oraz zwraca czas sortowania. Generując dane, potrafi spreparować na żądanie przypadek optymistyczny i pesymistyczny dla algorytmu sortowania szybkiego. Pomiar czasu odbywa się z wykorzystaniem funkcji `clock_gettimez` z parametrem `CLOCK_PROCESS_CPUTIME_ID`, która zwraca czas procesora wykorzystany przez proces, a nie ilość czasu, jaka upłynęła na zegarze.\n",
    "\n",
    "Analizę czasu wykonywania i wykresy wykonano w środowisku `Jupyter` w języku `Python` z bibliotekami `numpy` oraz `matplotlib`. Skrypty pozyskują czas poprzez uruchamianie opisanego wcześniej programu sortującego, w sposób widoczny na poniższym bloku z kodem. `Jupyter` umożliwia wzbogacenie kodu o dobrze prezentujące się wizualnie bloki `markdown`, więc ta część rozwiązania stanowi zarazem sprawozdanie z zadania.\n",
    "\n",
    "Czas jest wyznaczany przez wykonanie sortowania dziesięć razy. Z czasów usuwany jest wynik minimalny i maksymalny, a pozostałe są uśredniane."
   ]
  },
  {
   "cell_type": "code",
   "execution_count": 1,
   "metadata": {
    "collapsed": false
   },
   "outputs": [],
   "source": [
    "import functools as fn\n",
    "import math\n",
    "import re\n",
    "import subprocess as sp\n",
    "\n",
    "import matplotlib.pyplot as plt\n",
    "import numpy as np\n",
    "import pandas as pd\n",
    "\n",
    "from IPython.display import display"
   ]
  },
  {
   "cell_type": "code",
   "execution_count": null,
   "metadata": {
    "collapsed": true
   },
   "outputs": [],
   "source": [
    "def run_get_stdout(name, *args):\n",
    "    subprocess_args = [name] + list(map(str, args))\n",
    "    output = sp.run(subprocess_args, stdout=sp.PIPE).stdout\n",
    "    return output.decode('utf-8')\n",
    "\n",
    "OUTPUT_REGEX = re.compile(r\"CPU time: (\\d+\\.\\d+)s\\n\"\n",
    "                          r\"Block: (\\d+) (\\d+) (\\d+)\\n\"\n",
    "                          r\"Thread: (\\d+) (\\d+) (\\d+)\\n\"\n",
    "                          r\"GPU time: (\\d+\\.\\d+)ms\\n\")\n",
    "\n",
    "def parse_bubblesort(output):\n",
    "    try:\n",
    "        match = OUTPUT_REGEX.fullmatch(output)\n",
    "        cpu_time_ms = float(match.group(1)) * 1000\n",
    "        block_counts = map(int, match.group(2, 3, 4))\n",
    "        thread_counts = map(int, match.group(5, 6, 7))\n",
    "        gpu_time_ms = float(match.group(8))\n",
    "    except AttributeError as e:\n",
    "        print(output)\n",
    "        raise e\n",
    "    return (cpu_time_ms, tuple(block_counts), tuple(thread_counts), gpu_time_ms)\n",
    "\n",
    "def all_rows_equal(matrix):\n",
    "    np_matrix = np.array(matrix)\n",
    "    if np_matrix.size == 0:\n",
    "        return True\n",
    "    return np.all(np_matrix == np_matrix[0,:])\n",
    "\n",
    "def aggregate_bubblesorts(results):\n",
    "    cpu_times, block_countss, thread_countss, gpu_times = zip(*results)\n",
    "    mean_cpu_time = np.sort(cpu_times)[1:-1].mean()\n",
    "    mean_gpu_time = np.sort(gpu_times)[1:-1].mean()\n",
    "                  \n",
    "    if not all_rows_equal(block_countss):\n",
    "        raise ValueError(\"Block counts not equal\")\n",
    "    block_counts = np.array(block_countss[0])\n",
    "    \n",
    "    if not all_rows_equal(thread_countss):\n",
    "        raise ValueError(\"Thread counts not equal\")\n",
    "    thread_counts = np.array(thread_countss[0])\n",
    "                  \n",
    "    return (mean_cpu_time, mean_gpu_time, block_counts, thread_counts)\n",
    "\n",
    "def run_bubblesort(repeats, size, a, b):\n",
    "    outputs = [run_get_stdout('../Zadanie3/main.out', size, a, b) for _ in range(repeats)]\n",
    "    results = [parse_bubblesort(output) for output in outputs]\n",
    "    return aggregate_bubblesorts(results)"
   ]
  },
  {
   "cell_type": "markdown",
   "metadata": {},
   "source": [
    "## Przypadek pesymistyczny\n",
    "\n",
    "Sortowanie szybkie w przypadku pesymistycznym ma złożoność czasową $\\Theta(n^2)$, gdzie $n$ to rozmiar sortowanego zestawu danych. W zaimplementowanej wersji algorytmu jako element, z którym porównywane są inne elementy (element osiowy, `pivot`), zawsze wybierany jest ostatni element z przedziału. Przypadkiem pesymistycznym dla takiego algorytmu jest sytuacja, w której zestaw danych wejściowych jest już posortowany malejąco lub rosnąco, gdyż wtedy jako element osiowy zawsze będzie wybierany element najmniejszy lub największy z przedziału. W takim wypadku jedno z rekurencyjnych wywołań `quicksort` będzie operować na przedziale tylko o jeden mniejszym. Liczba wywołań zależna liniowo od $n$ oraz rozmiar danych w każdym wywołaniu zależny liniowo od $n$ zaowocują kwadratową złożonością obliczeniową algorytmu. \n",
    "\n",
    "Właściwość ta jest bardzo niekorzystna, gdyż w części lub całości posortowane dane często spotykane są w praktyce. Można jednak zmodyfikować algorytm, by tę właściwość usunąć. Wybieranie elementu osiowego losowo sprawia, że posortowany zestaw danych przestaje być przypadkiem pesymistycznym, a trafienie na ten przypadek staje się nieprawdopodobne. Możliwe jest wybieranie na element osiowy mediany lub przybliżonej mediany przedziału, przy czym pierwszy przypadek gwarantuje złożoność liniowologarytmiczną algorytmu, lecz jest dość kosztowne. \n",
    "\n",
    "W przypadku pesymistycznym osiągana jest również najgorsza, liniową złożoność pamięciowa, gdyż każdy poziom rekursji zajmuje dodatkowo pewną stałą ilość pamięci, a to zagłębienie staje się w tym przypadku liniowo zależne od $n$. Jest to jednak do uniknięcia, jeżeli zastosuje się optymalizację polegającą na tym, iż rekurencyjne wywołanie sortowania zostanie wykonane najpierw dla krótszego przedziału, a później dla dłuższego. Wtedy, przy zastosowaniu dodatkowo optymalizacji rekursji ogonowej, złożoność pamięciowa w przypadku pesmistycznym jest stała, a zatem dla odmiany mniejsza niż w innych przypadkach. "
   ]
  },
  {
   "cell_type": "code",
   "execution_count": 2,
   "metadata": {
    "collapsed": false
   },
   "outputs": [],
   "source": [
    "import functools as fn\n",
    "import math\n",
    "from IPython.display import display\n",
    "import matplotlib.pyplot as plt\n",
    "import pandas as pd\n",
    "\n",
    "def plot_times(data_sizes, running_times):\n",
    "    plt.plot(data_sizes, running_times, 'o')\n",
    "    plt.ylabel('Czas wykonywania [s]')\n",
    "    plt.xlabel('Rozmiar sortowanej tablicy')\n",
    "    plt.show()\n",
    "    \n",
    "def display_ratios(data_sizes, running_times):\n",
    "    data_ratios = np.hstack([[math.nan], data_sizes[1:] / data_sizes[:-1]])\n",
    "    time_ratios = np.hstack([[math.nan], running_times[1:] / running_times[:-1]])\n",
    "    all_data = np.vstack([data_sizes, running_times, data_ratios, time_ratios]).T\n",
    "    col_names = ['Data size', 'Running time', 'Data ratio', 'Time ratio']\n",
    "    df = pd.DataFrame(all_data, columns=col_names)\n",
    "    display(df)"
   ]
  },
  {
   "cell_type": "code",
   "execution_count": 3,
   "metadata": {
    "collapsed": false
   },
   "outputs": [
    {
     "data": {
      "image/png": "[encoded data removed]",
      "text/plain": [
       "<matplotlib.figure.Figure at 0x7f5c8053d240>"
      ]
     },
     "metadata": {},
     "output_type": "display_data"
    },
    {
     "data": {
      "text/html": [
       "<div>\n",
       "<table border=\"1\" class=\"dataframe\">\n",
       "  <thead>\n",
       "    <tr style=\"text-align: right;\">\n",
       "      <th></th>\n",
       "      <th>Data size</th>\n",
       "      <th>Running time</th>\n",
       "      <th>Data ratio</th>\n",
       "      <th>Time ratio</th>\n",
       "    </tr>\n",
       "  </thead>\n",
       "  <tbody>\n",
       "    <tr>\n",
       "      <th>0</th>\n",
       "      <td>2500.0</td>\n",
       "      <td>0.348119</td>\n",
       "      <td>NaN</td>\n",
       "      <td>NaN</td>\n",
       "    </tr>\n",
       "    <tr>\n",
       "      <th>1</th>\n",
       "      <td>5000.0</td>\n",
       "      <td>0.139083</td>\n",
       "      <td>2.0</td>\n",
       "      <td>0.399526</td>\n",
       "    </tr>\n",
       "    <tr>\n",
       "      <th>2</th>\n",
       "      <td>10000.0</td>\n",
       "      <td>0.558524</td>\n",
       "      <td>2.0</td>\n",
       "      <td>4.015772</td>\n",
       "    </tr>\n",
       "    <tr>\n",
       "      <th>3</th>\n",
       "      <td>20000.0</td>\n",
       "      <td>2.224016</td>\n",
       "      <td>2.0</td>\n",
       "      <td>3.981951</td>\n",
       "    </tr>\n",
       "    <tr>\n",
       "      <th>4</th>\n",
       "      <td>40000.0</td>\n",
       "      <td>8.898608</td>\n",
       "      <td>2.0</td>\n",
       "      <td>4.001144</td>\n",
       "    </tr>\n",
       "  </tbody>\n",
       "</table>\n",
       "</div>"
      ],
      "text/plain": [
       "   Data size  Running time  Data ratio  Time ratio\n",
       "0     2500.0      0.348119         NaN         NaN\n",
       "1     5000.0      0.139083         2.0    0.399526\n",
       "2    10000.0      0.558524         2.0    4.015772\n",
       "3    20000.0      2.224016         2.0    3.981951\n",
       "4    40000.0      8.898608         2.0    4.001144"
      ]
     },
     "metadata": {},
     "output_type": "display_data"
    }
   ],
   "source": [
    "apply_pessimistic = fn.partial(apply_quicksort, 'p', 10)\n",
    "\n",
    "data_sizes = np.arange(1000, 20000, 500)\n",
    "running_times = apply_pessimistic(data_sizes)\n",
    "plot_times(data_sizes, running_times)\n",
    "\n",
    "data_sizes2 = np.exp2(np.arange(5)) * 2500\n",
    "running_times2 = apply_pessimistic(data_sizes2)\n",
    "display_ratios(data_sizes2, running_times2)"
   ]
  },
  {
   "cell_type": "markdown",
   "metadata": {},
   "source": [
    "Sądząc po wynikach, podwojenie rozmiaru danych powoduje czterokrotny wzrost czasu wykonywania. Zależność ta nie zachodzi dla względnie małych zestawów danych, zapewne dlatego, że wtedy część algorytmu, która nie zależy od danych, jest bardziej znacząca."
   ]
  },
  {
   "cell_type": "markdown",
   "metadata": {},
   "source": [
    "## Przypadek optymistyczny\n",
    "\n",
    "W optymistycznym przypadku, sortowanie szybkie ma złożoność czasową $\\Theta(n\\ lg\\ n)$. Jest to przypadek, gdy na każdym kroku sortowania za element osiowy (`pivot`) wybrana zostaje mediana przedziału i rekurencyjne wywołania algorytmu operują na podprzedziałach dwukrotnie krótszych lub prawie dwukrotnie, gdy długość jest nieparzysta.\n",
    "\n",
    "Głebokość rekursji wynosi w takim przypadku $lg_2\\ n$, przy czym na każdym poziomie głębokości przetworzonych zostaje $n$ elementów, a zatem ostatecznie liczba operacji zależy liniowologarytmicznie od rozmiaru sortowanego zestawu danych. Złożoność pamięciowa algorytmu zależy od głębokości rekursji, gdyż każde wywołanie wymaga zarezerwowania pewnej stałej ilości pamięci, i jest logarytmiczna.\n",
    "\n",
    "W programie nie mamy opcji spreparowania danych do przypadku optymistycznego. Okazało się to trudniejsze niż samo sortowanie i jeżeli nasze przewidywania są trafne, wyniki nie będą różnić się charakterem od przedstawionego poniżej przypadku średniego."
   ]
  },
  {
   "cell_type": "markdown",
   "metadata": {},
   "source": [
    "## Przypadek średni\n",
    "\n",
    "W średnim przypadku algorytm `quicksort` ma złożoność liniowologarytmiczną, podobnie jak w przypadku optymistycznym. Liczba operacji do wykonania jest zwykle relatywnie niewielka, czego skutkiem jest częste wykorzystanie tego algorytmu."
   ]
  },
  {
   "cell_type": "code",
   "execution_count": 4,
   "metadata": {
    "collapsed": false
   },
   "outputs": [
    {
     "data": {
      "image/png": "[encoded data removed]",
      "text/plain": [
       "<matplotlib.figure.Figure at 0x7f5c638e8748>"
      ]
     },
     "metadata": {},
     "output_type": "display_data"
    },
    {
     "data": {
      "text/html": [
       "<div>\n",
       "<table border=\"1\" class=\"dataframe\">\n",
       "  <thead>\n",
       "    <tr style=\"text-align: right;\">\n",
       "      <th></th>\n",
       "      <th>Data size</th>\n",
       "      <th>Running time</th>\n",
       "      <th>Data ratio</th>\n",
       "      <th>Time ratio</th>\n",
       "    </tr>\n",
       "  </thead>\n",
       "  <tbody>\n",
       "    <tr>\n",
       "      <th>0</th>\n",
       "      <td>1000000.0</td>\n",
       "      <td>0.267178</td>\n",
       "      <td>NaN</td>\n",
       "      <td>NaN</td>\n",
       "    </tr>\n",
       "    <tr>\n",
       "      <th>1</th>\n",
       "      <td>2000000.0</td>\n",
       "      <td>0.559268</td>\n",
       "      <td>2.0</td>\n",
       "      <td>2.093246</td>\n",
       "    </tr>\n",
       "    <tr>\n",
       "      <th>2</th>\n",
       "      <td>4000000.0</td>\n",
       "      <td>1.158979</td>\n",
       "      <td>2.0</td>\n",
       "      <td>2.072313</td>\n",
       "    </tr>\n",
       "    <tr>\n",
       "      <th>3</th>\n",
       "      <td>8000000.0</td>\n",
       "      <td>2.462841</td>\n",
       "      <td>2.0</td>\n",
       "      <td>2.125010</td>\n",
       "    </tr>\n",
       "    <tr>\n",
       "      <th>4</th>\n",
       "      <td>16000000.0</td>\n",
       "      <td>5.313126</td>\n",
       "      <td>2.0</td>\n",
       "      <td>2.157316</td>\n",
       "    </tr>\n",
       "  </tbody>\n",
       "</table>\n",
       "</div>"
      ],
      "text/plain": [
       "    Data size  Running time  Data ratio  Time ratio\n",
       "0   1000000.0      0.267178         NaN         NaN\n",
       "1   2000000.0      0.559268         2.0    2.093246\n",
       "2   4000000.0      1.158979         2.0    2.072313\n",
       "3   8000000.0      2.462841         2.0    2.125010\n",
       "4  16000000.0      5.313126         2.0    2.157316"
      ]
     },
     "metadata": {},
     "output_type": "display_data"
    }
   ],
   "source": [
    "apply_average = fn.partial(apply_quicksort, 'r', 10)\n",
    "\n",
    "data_sizes = np.arange(1000000, 4000000, 100000)\n",
    "running_times = apply_average(data_sizes)\n",
    "plot_times(data_sizes, running_times)\n",
    "\n",
    "data_sizes2 = np.exp2(np.arange(5)) * 1000000\n",
    "running_times2 = apply_average(data_sizes2)\n",
    "display_ratios(data_sizes2, running_times2)"
   ]
  },
  {
   "cell_type": "markdown",
   "metadata": {},
   "source": [
    "Jak widać czas zmienia się odrobinę szybciej niż liniowo względem rozmiaru danych. Tak właśnie wygląda złożoność liniowologarytmiczna i dlatego algorytmy o takiej charakterystyce są pożądane w praktyce.\n",
    "\n",
    "Kwestią, na którą warto zwrócić uwagę, jest to jak szybkość działania algorytmu się zmienia, gdy w zestawie danych pojawia się dużo równych sobie elementów. Ustalenie, iż elementy równe elementowi osiowemu trafiają do jednego z podprzedziałów, które są rekurencyjnie sortowane, może sprawić, iż liczba operacji do wykonania wzrośnie wraz ze spadkiem liczby klas elementów. W szczególności jeżeli wszystkie elementy są sobie równe, to będziemy mieć do czynienia z przypadkiem pesymistycznym, gdyż $n - 1$ elementów trafi do prawego lub lewego podprzedziału.\n",
    "\n",
    "Usunięcie tej cechy wymaga szczególnego traktowania elementów równych elementowi osiowemu. Jednym pomysłem może być umieszczanie ich na zmianę w lewym lub prawym podprzedziale. Alternatywnie można w trakcie dokonywania podziału umieścić wszystkie te elementy jeden po drugim obok elementu osiowego i rekurencyjnie dzielić tylko podprzedziały na lewo i na prawo od nich, ignorując je zupełnie, gdyż są już na swoim miejscu. Rozwiązanie to nadaje algorytmowi ciekawą cechę, iż jeżeli w zestawie danych jest $k$ klas elementów, to operacja podziału zostanie wykonana najwyżej $k$ razy. Jest to ogromnie korzystne, gdy $k$ jest małe, lecz odbywa się kosztem bardziej złożonej funkcji podziału. W wykonanym programie użyty został wariant wolniejszy. Poniżej zaprezentowano wyniki programu dla $k = 2$."
   ]
  },
  {
   "cell_type": "code",
   "execution_count": 5,
   "metadata": {
    "collapsed": false
   },
   "outputs": [
    {
     "data": {
      "image/png": "[encoded data removed]",
      "text/plain": [
       "<matplotlib.figure.Figure at 0x7f5c8053d390>"
      ]
     },
     "metadata": {},
     "output_type": "display_data"
    },
    {
     "data": {
      "text/html": [
       "<div>\n",
       "<table border=\"1\" class=\"dataframe\">\n",
       "  <thead>\n",
       "    <tr style=\"text-align: right;\">\n",
       "      <th></th>\n",
       "      <th>Data size</th>\n",
       "      <th>Running time</th>\n",
       "      <th>Data ratio</th>\n",
       "      <th>Time ratio</th>\n",
       "    </tr>\n",
       "  </thead>\n",
       "  <tbody>\n",
       "    <tr>\n",
       "      <th>0</th>\n",
       "      <td>2500.0</td>\n",
       "      <td>0.202926</td>\n",
       "      <td>NaN</td>\n",
       "      <td>NaN</td>\n",
       "    </tr>\n",
       "    <tr>\n",
       "      <th>1</th>\n",
       "      <td>5000.0</td>\n",
       "      <td>0.835189</td>\n",
       "      <td>2.0</td>\n",
       "      <td>4.115736</td>\n",
       "    </tr>\n",
       "    <tr>\n",
       "      <th>2</th>\n",
       "      <td>10000.0</td>\n",
       "      <td>0.327231</td>\n",
       "      <td>2.0</td>\n",
       "      <td>0.391805</td>\n",
       "    </tr>\n",
       "    <tr>\n",
       "      <th>3</th>\n",
       "      <td>20000.0</td>\n",
       "      <td>1.315393</td>\n",
       "      <td>2.0</td>\n",
       "      <td>4.019765</td>\n",
       "    </tr>\n",
       "    <tr>\n",
       "      <th>4</th>\n",
       "      <td>40000.0</td>\n",
       "      <td>5.347267</td>\n",
       "      <td>2.0</td>\n",
       "      <td>4.065147</td>\n",
       "    </tr>\n",
       "  </tbody>\n",
       "</table>\n",
       "</div>"
      ],
      "text/plain": [
       "   Data size  Running time  Data ratio  Time ratio\n",
       "0     2500.0      0.202926         NaN         NaN\n",
       "1     5000.0      0.835189         2.0    4.115736\n",
       "2    10000.0      0.327231         2.0    0.391805\n",
       "3    20000.0      1.315393         2.0    4.019765\n",
       "4    40000.0      5.347267         2.0    4.065147"
      ]
     },
     "metadata": {},
     "output_type": "display_data"
    }
   ],
   "source": [
    "data_sizes = np.arange(1000, 20000, 500)\n",
    "running_times = apply_average(data_sizes, 2)\n",
    "plot_times(data_sizes, running_times)\n",
    "\n",
    "data_sizes2 = np.exp2(np.arange(5)) * 2500\n",
    "running_times2 = apply_average(data_sizes2, 2)\n",
    "display_ratios(data_sizes2, running_times2)"
   ]
  },
  {
   "cell_type": "markdown",
   "metadata": {},
   "source": [
    "Nie licząc jednej anomalii, czas rośnie czterokrotnie, gdy rozmiar danych rośnie dwukrotnie. Złożoność jest zatem kwadratowa, tak jak w przypadku pesymistycznym i jak zostało to przewidziane."
   ]
  }
 ],
 "metadata": {
  "kernelspec": {
   "display_name": "Python 3",
   "language": "python",
   "name": "python3"
  },
  "language_info": {
   "codemirror_mode": {
    "name": "ipython",
    "version": 3
   },
   "file_extension": ".py",
   "mimetype": "text/x-python",
   "name": "python",
   "nbconvert_exporter": "python",
   "pygments_lexer": "ipython3",
   "version": "3.5.2+"
  }
 },
 "nbformat": 4,
 "nbformat_minor": 1
}
